{
 "cells": [
  {
   "cell_type": "markdown",
   "metadata": {},
   "source": [
    "# <center>Linear Regression</center><br>\n",
    "<img src = \"Regression.png\"></img><br>\n",
    "#### <div align='right'>Made by: **Asad Mahmood</div>**"
   ]
  },
  {
   "cell_type": "code",
   "execution_count": 2,
   "metadata": {},
   "outputs": [],
   "source": [
    "import pandas as pd\n",
    "import numpy as np\n",
    "import plotly.express as px"
   ]
  },
  {
   "cell_type": "markdown",
   "metadata": {},
   "source": [
    "<a id=\"toc\"></a>\n",
    "\n",
    "<div class=\"list-group\" id=\"list-tab\" role=\"tablist\">\n",
    "<h2 class=\"list-group-item list-group-item-action active\" data-toggle=\"list\" style='background:black; border:0' role=\"tab\" aria-controls=\"home\"><center>Table of Contents</center></h2>\n",
    "\n",
    "1. [Introduction](#Intro)\n",
    "2. [Objective](#Obj)\n",
    "3. [Exploratory Data Analysis](#EDA)\n",
    "    1. Understanding Data\n",
    "    1. Data Preprocessing\n",
    "    2. Data Exploration\n",
    "    3. Visual Exploration\n",
    "4. [Model Building](#Model)\n",
    "    1. Train and Test Split\n",
    "    2. Lazy Prediction\n",
    "    3. Fine Tuning Best Model\n",
    "5. [Evaluation](#Eval)\n",
    "6. [Conclusion](#Con)\n",
    "7. [Recommendations](#Rec)"
   ]
  },
  {
   "cell_type": "markdown",
   "metadata": {},
   "source": [
    "<a name=\"Intro\"></a>\n",
    "\n",
    "<div class=\"list-group\" id=\"list-tab\" role=\"tablist\">\n",
    "<h3 class=\"list-group-item list-group-item-action active\" data-toggle=\"list\" style='background:black; border:0' role=\"tab\" aria-controls=\"home\"><center>Introduction</center></h3>\n"
   ]
  },
  {
   "cell_type": "code",
   "execution_count": null,
   "metadata": {},
   "outputs": [],
   "source": []
  },
  {
   "cell_type": "markdown",
   "metadata": {},
   "source": [
    "[Return to TOC](#toc)"
   ]
  },
  {
   "cell_type": "markdown",
   "metadata": {},
   "source": [
    "<a name=\"Obj\"></a>\n",
    "\n",
    "<div class=\"list-group\" id=\"list-tab\" role=\"tablist\">\n",
    "<h3 class=\"list-group-item list-group-item-action active\" data-toggle=\"list\" style='background:black; border:0' role=\"tab\" aria-controls=\"home\"><center>Objective</center></h3>"
   ]
  },
  {
   "cell_type": "code",
   "execution_count": null,
   "metadata": {},
   "outputs": [],
   "source": []
  },
  {
   "cell_type": "markdown",
   "metadata": {},
   "source": [
    "[Return to TOC](#toc)"
   ]
  },
  {
   "cell_type": "markdown",
   "metadata": {},
   "source": [
    "<a name=\"EDA\"></a>\n",
    "\n",
    "<div class=\"list-group\" id=\"list-tab\" role=\"tablist\">\n",
    "<h3 class=\"list-group-item list-group-item-action active\" data-toggle=\"list\" style='background:black; border:0' role=\"tab\" aria-controls=\"home\"><center>Exploratory Data Analysis</center></h3>"
   ]
  },
  {
   "cell_type": "markdown",
   "metadata": {},
   "source": [
    "<div class=\"list-group\" id=\"list-tab\" role=\"tablist\">\n",
    "<h4 class=\"list-group-item list-group-item-action active\" data-toggle=\"list\" style='background:gray; border:0' role=\"tab\" aria-controls=\"home\"><center>Understanding Data</center></h4>"
   ]
  },
  {
   "cell_type": "code",
   "execution_count": 1,
   "metadata": {
    "collapsed": true
   },
   "outputs": [
    {
     "ename": "NameError",
     "evalue": "name 'df' is not defined",
     "output_type": "error",
     "traceback": [
      "\u001b[1;31m---------------------------------------------------------------------------\u001b[0m",
      "\u001b[1;31mNameError\u001b[0m                                 Traceback (most recent call last)",
      "\u001b[1;32m<ipython-input-1-7862793d6fb2>\u001b[0m in \u001b[0;36m<module>\u001b[1;34m\u001b[0m\n\u001b[1;32m----> 1\u001b[1;33m \u001b[1;32mfor\u001b[0m \u001b[0mcol\u001b[0m \u001b[1;32min\u001b[0m \u001b[0mdf\u001b[0m\u001b[1;33m.\u001b[0m\u001b[0mcolumns\u001b[0m\u001b[1;33m:\u001b[0m\u001b[1;33m\u001b[0m\u001b[1;33m\u001b[0m\u001b[0m\n\u001b[0m\u001b[0;32m      2\u001b[0m     \u001b[0mprint\u001b[0m\u001b[1;33m(\u001b[0m\u001b[0mcol\u001b[0m\u001b[1;33m,\u001b[0m \u001b[0mstr\u001b[0m\u001b[1;33m(\u001b[0m\u001b[0mround\u001b[0m\u001b[1;33m(\u001b[0m\u001b[1;36m100\u001b[0m\u001b[1;33m*\u001b[0m \u001b[0mdf\u001b[0m\u001b[1;33m[\u001b[0m\u001b[0mcol\u001b[0m\u001b[1;33m]\u001b[0m\u001b[1;33m.\u001b[0m\u001b[0misnull\u001b[0m\u001b[1;33m(\u001b[0m\u001b[1;33m)\u001b[0m\u001b[1;33m.\u001b[0m\u001b[0msum\u001b[0m\u001b[1;33m(\u001b[0m\u001b[1;33m)\u001b[0m \u001b[1;33m/\u001b[0m \u001b[0mlen\u001b[0m\u001b[1;33m(\u001b[0m\u001b[0mdf\u001b[0m\u001b[1;33m)\u001b[0m\u001b[1;33m,\u001b[0m \u001b[1;36m2\u001b[0m\u001b[1;33m)\u001b[0m\u001b[1;33m)\u001b[0m \u001b[1;33m+\u001b[0m \u001b[1;34m'%'\u001b[0m\u001b[1;33m)\u001b[0m\u001b[1;33m\u001b[0m\u001b[1;33m\u001b[0m\u001b[0m\n",
      "\u001b[1;31mNameError\u001b[0m: name 'df' is not defined"
     ]
    }
   ],
   "source": [
    "# Check which columns have what % of null values \n",
    "for col in df.columns:\n",
    "    print(col, str(round(100* df[col].isnull().sum() / len(df), 2)) + '%')"
   ]
  },
  {
   "cell_type": "markdown",
   "metadata": {},
   "source": [
    "<div class=\"list-group\" id=\"list-tab\" role=\"tablist\">\n",
    "<h4 class=\"list-group-item list-group-item-action active\" data-toggle=\"list\" style='background:gray; border:0' role=\"tab\" aria-controls=\"home\"><center>Data Preprocessing</center></h4>"
   ]
  },
  {
   "cell_type": "code",
   "execution_count": null,
   "metadata": {},
   "outputs": [],
   "source": []
  },
  {
   "cell_type": "markdown",
   "metadata": {},
   "source": [
    "<div class=\"list-group\" id=\"list-tab\" role=\"tablist\">\n",
    "<h4 class=\"list-group-item list-group-item-action active\" data-toggle=\"list\" style='background:gray; border:0' role=\"tab\" aria-controls=\"home\"><center>Data Exploration</center></h4>"
   ]
  },
  {
   "cell_type": "code",
   "execution_count": null,
   "metadata": {},
   "outputs": [],
   "source": []
  },
  {
   "cell_type": "markdown",
   "metadata": {},
   "source": [
    "<div class=\"list-group\" id=\"list-tab\" role=\"tablist\">\n",
    "<h4 class=\"list-group-item list-group-item-action active\" data-toggle=\"list\" style='background:gray; border:0' role=\"tab\" aria-controls=\"home\"><center>Visual Exploration</center></h4>"
   ]
  },
  {
   "cell_type": "markdown",
   "metadata": {},
   "source": [
    "### Histogram"
   ]
  },
  {
   "cell_type": "code",
   "execution_count": 3,
   "metadata": {},
   "outputs": [],
   "source": [
    "HEIGHT = 500\n",
    "WIDTH = 900\n",
    "NBINS = 50\n",
    "SCATTER_SIZE=700\n",
    "\n",
    "def plot_histogram(dataframe, column, color, bins, title, width=WIDTH, height=HEIGHT):\n",
    "    figure = px.histogram(\n",
    "        dataframe, \n",
    "        column, \n",
    "        color=color,\n",
    "        nbins=bins, \n",
    "        title=title, \n",
    "        width=width,\n",
    "        height=height\n",
    "    )\n",
    "    figure.update_layout({\n",
    "            'plot_bgcolor': 'rgba(0, 0, 0, 0)',\n",
    "            'paper_bgcolor': 'rgba(0, 0, 0, 0)',\n",
    "        })\n",
    "    figure.show()"
   ]
  },
  {
   "cell_type": "markdown",
   "metadata": {},
   "source": [
    "### Violin Plot"
   ]
  },
  {
   "cell_type": "code",
   "execution_count": 7,
   "metadata": {},
   "outputs": [
    {
     "data": {
      "text/plain": [
       "'\\n\\n#fig = px.violin(\\n    df, \\n    x=\"DEATH_EVENT\", \\n    y=\"age\", \\n    points=\\'all\\',\\n    title=\\'Age & DEATH_EVENT box plot\\',\\n    width=WIDTH,\\n    height=HEIGHT,\\n    box = True\\n)\\nfig.update_layout({\\n    \\'plot_bgcolor\\': \\'rgba(0, 0, 0, 0)\\',\\n    \\'paper_bgcolor\\': \\'rgba(0, 0, 0, 0)\\',\\n})\\n\\nfig.show()\\n\\n'"
      ]
     },
     "execution_count": 7,
     "metadata": {},
     "output_type": "execute_result"
    }
   ],
   "source": [
    "fig = px.violin(\n",
    "    df, \n",
    "    x=\"DEATH_EVENT\", \n",
    "    y=\"age\", \n",
    "    points='all',\n",
    "    title='Age & DEATH_EVENT box plot',\n",
    "    width=WIDTH,\n",
    "    height=HEIGHT,\n",
    "    box = True\n",
    ")\n",
    "fig.update_layout({\n",
    "    'plot_bgcolor': 'rgba(0, 0, 0, 0)',\n",
    "    'paper_bgcolor': 'rgba(0, 0, 0, 0)',\n",
    "})\n",
    "\n",
    "fig.show()"
   ]
  },
  {
   "cell_type": "markdown",
   "metadata": {},
   "source": [
    "[Return to TOC](#toc)"
   ]
  },
  {
   "cell_type": "markdown",
   "metadata": {},
   "source": [
    "<a name=\"Model\"></a>\n",
    "\n",
    "<div class=\"list-group\" id=\"list-tab\" role=\"tablist\">\n",
    "<h3 class=\"list-group-item list-group-item-action active\" data-toggle=\"list\" style='background:black; border:0' role=\"tab\" aria-controls=\"home\"><center>Model Building</center></h3>"
   ]
  },
  {
   "cell_type": "code",
   "execution_count": null,
   "metadata": {},
   "outputs": [],
   "source": []
  },
  {
   "cell_type": "markdown",
   "metadata": {},
   "source": [
    "<div class=\"list-group\" id=\"list-tab\" role=\"tablist\">\n",
    "<h4 class=\"list-group-item list-group-item-action active\" data-toggle=\"list\" style='background:gray; border:0' role=\"tab\" aria-controls=\"home\"><center>Train and Test Split</center></h4>"
   ]
  },
  {
   "cell_type": "code",
   "execution_count": null,
   "metadata": {},
   "outputs": [],
   "source": []
  },
  {
   "cell_type": "markdown",
   "metadata": {},
   "source": [
    "<div class=\"list-group\" id=\"list-tab\" role=\"tablist\">\n",
    "<h4 class=\"list-group-item list-group-item-action active\" data-toggle=\"list\" style='background:gray; border:0' role=\"tab\" aria-controls=\"home\"><center>Lazy Prediction</center></h4>"
   ]
  },
  {
   "cell_type": "code",
   "execution_count": null,
   "metadata": {},
   "outputs": [],
   "source": []
  },
  {
   "cell_type": "markdown",
   "metadata": {},
   "source": [
    "<div class=\"list-group\" id=\"list-tab\" role=\"tablist\">\n",
    "<h4 class=\"list-group-item list-group-item-action active\" data-toggle=\"list\" style='background:gray; border:0' role=\"tab\" aria-controls=\"home\"><center>Fine Tuning Model</center></h4>"
   ]
  },
  {
   "cell_type": "markdown",
   "metadata": {},
   "source": [
    "### Hyperparameter tuning"
   ]
  },
  {
   "cell_type": "markdown",
   "metadata": {},
   "source": [
    "#### Libraries"
   ]
  },
  {
   "cell_type": "code",
   "execution_count": 29,
   "metadata": {},
   "outputs": [],
   "source": [
    "import pandas as pd\n",
    "import numpy as np\n",
    "\n",
    "from sklearn import ensemble\n",
    "from sklearn import metrics\n",
    "from sklearn import model_selection\n",
    "from sklearn.model_selection import train_test_split"
   ]
  },
  {
   "cell_type": "markdown",
   "metadata": {},
   "source": [
    "#### Reading in Data"
   ]
  },
  {
   "cell_type": "code",
   "execution_count": 37,
   "metadata": {},
   "outputs": [],
   "source": [
    "df = pd.read_csv('mobile_price_data.csv')"
   ]
  },
  {
   "cell_type": "markdown",
   "metadata": {},
   "source": [
    "#### Grid Search"
   ]
  },
  {
   "cell_type": "code",
   "execution_count": 30,
   "metadata": {},
   "outputs": [],
   "source": [
    "X = df.drop('price_range', axis = 1).values\n",
    "y = df.price_range.values\n",
    "\n",
    "X_train, X_test, y_train, y_test = train_test_split(X, y, test_size=0.2)"
   ]
  },
  {
   "cell_type": "code",
   "execution_count": 31,
   "metadata": {
    "collapsed": true
   },
   "outputs": [
    {
     "name": "stdout",
     "output_type": "stream",
     "text": [
      "Fitting 5 folds for each of 32 candidates, totalling 160 fits\n",
      "[CV] criterion=gini, max_depth=1, n_estimators=100 ...................\n"
     ]
    },
    {
     "name": "stderr",
     "output_type": "stream",
     "text": [
      "[Parallel(n_jobs=1)]: Using backend SequentialBackend with 1 concurrent workers.\n"
     ]
    },
    {
     "name": "stdout",
     "output_type": "stream",
     "text": [
      "[CV]  criterion=gini, max_depth=1, n_estimators=100, score=0.606, total=   3.8s\n",
      "[CV] criterion=gini, max_depth=1, n_estimators=100 ...................\n",
      "[CV]  criterion=gini, max_depth=1, n_estimators=100, score=0.609, total=   0.2s\n",
      "[CV] criterion=gini, max_depth=1, n_estimators=100 ...................\n"
     ]
    },
    {
     "name": "stderr",
     "output_type": "stream",
     "text": [
      "[Parallel(n_jobs=1)]: Done   1 out of   1 | elapsed:    3.7s remaining:    0.0s\n",
      "[Parallel(n_jobs=1)]: Done   2 out of   2 | elapsed:    3.9s remaining:    0.0s\n"
     ]
    },
    {
     "name": "stdout",
     "output_type": "stream",
     "text": [
      "[CV]  criterion=gini, max_depth=1, n_estimators=100, score=0.578, total=   0.2s\n",
      "[CV] criterion=gini, max_depth=1, n_estimators=100 ...................\n",
      "[CV]  criterion=gini, max_depth=1, n_estimators=100, score=0.566, total=   0.2s\n",
      "[CV] criterion=gini, max_depth=1, n_estimators=100 ...................\n"
     ]
    },
    {
     "name": "stderr",
     "output_type": "stream",
     "text": [
      "[Parallel(n_jobs=1)]: Done   3 out of   3 | elapsed:    4.0s remaining:    0.0s\n",
      "[Parallel(n_jobs=1)]: Done   4 out of   4 | elapsed:    4.2s remaining:    0.0s\n"
     ]
    },
    {
     "name": "stdout",
     "output_type": "stream",
     "text": [
      "[CV]  criterion=gini, max_depth=1, n_estimators=100, score=0.625, total=   0.2s\n",
      "[CV] criterion=gini, max_depth=1, n_estimators=200 ...................\n"
     ]
    },
    {
     "name": "stderr",
     "output_type": "stream",
     "text": [
      "[Parallel(n_jobs=1)]: Done   5 out of   5 | elapsed:    4.4s remaining:    0.0s\n"
     ]
    },
    {
     "name": "stdout",
     "output_type": "stream",
     "text": [
      "[CV]  criterion=gini, max_depth=1, n_estimators=200, score=0.613, total=   0.3s\n",
      "[CV] criterion=gini, max_depth=1, n_estimators=200 ...................\n"
     ]
    },
    {
     "name": "stderr",
     "output_type": "stream",
     "text": [
      "[Parallel(n_jobs=1)]: Done   6 out of   6 | elapsed:    4.6s remaining:    0.0s\n"
     ]
    },
    {
     "name": "stdout",
     "output_type": "stream",
     "text": [
      "[CV]  criterion=gini, max_depth=1, n_estimators=200, score=0.637, total=   0.3s\n",
      "[CV] criterion=gini, max_depth=1, n_estimators=200 ...................\n"
     ]
    },
    {
     "name": "stderr",
     "output_type": "stream",
     "text": [
      "[Parallel(n_jobs=1)]: Done   7 out of   7 | elapsed:    4.9s remaining:    0.0s\n"
     ]
    },
    {
     "name": "stdout",
     "output_type": "stream",
     "text": [
      "[CV]  criterion=gini, max_depth=1, n_estimators=200, score=0.569, total=   0.2s\n",
      "[CV] criterion=gini, max_depth=1, n_estimators=200 ...................\n"
     ]
    },
    {
     "name": "stderr",
     "output_type": "stream",
     "text": [
      "[Parallel(n_jobs=1)]: Done   8 out of   8 | elapsed:    5.1s remaining:    0.0s\n"
     ]
    },
    {
     "name": "stdout",
     "output_type": "stream",
     "text": [
      "[CV]  criterion=gini, max_depth=1, n_estimators=200, score=0.544, total=   0.2s\n",
      "[CV] criterion=gini, max_depth=1, n_estimators=200 ...................\n"
     ]
    },
    {
     "name": "stderr",
     "output_type": "stream",
     "text": [
      "[Parallel(n_jobs=1)]: Done   9 out of   9 | elapsed:    5.4s remaining:    0.0s\n"
     ]
    },
    {
     "name": "stdout",
     "output_type": "stream",
     "text": [
      "[CV]  criterion=gini, max_depth=1, n_estimators=200, score=0.578, total=   0.3s\n",
      "[CV] criterion=gini, max_depth=1, n_estimators=300 ...................\n",
      "[CV]  criterion=gini, max_depth=1, n_estimators=300, score=0.597, total=   0.4s\n",
      "[CV] criterion=gini, max_depth=1, n_estimators=300 ...................\n",
      "[CV]  criterion=gini, max_depth=1, n_estimators=300, score=0.603, total=   0.4s\n",
      "[CV] criterion=gini, max_depth=1, n_estimators=300 ...................\n",
      "[CV]  criterion=gini, max_depth=1, n_estimators=300, score=0.562, total=   0.4s\n",
      "[CV] criterion=gini, max_depth=1, n_estimators=300 ...................\n",
      "[CV]  criterion=gini, max_depth=1, n_estimators=300, score=0.578, total=   0.4s\n",
      "[CV] criterion=gini, max_depth=1, n_estimators=300 ...................\n",
      "[CV]  criterion=gini, max_depth=1, n_estimators=300, score=0.569, total=   0.5s\n",
      "[CV] criterion=gini, max_depth=1, n_estimators=400 ...................\n",
      "[CV]  criterion=gini, max_depth=1, n_estimators=400, score=0.575, total=   0.5s\n",
      "[CV] criterion=gini, max_depth=1, n_estimators=400 ...................\n",
      "[CV]  criterion=gini, max_depth=1, n_estimators=400, score=0.616, total=   0.4s\n",
      "[CV] criterion=gini, max_depth=1, n_estimators=400 ...................\n",
      "[CV]  criterion=gini, max_depth=1, n_estimators=400, score=0.588, total=   0.4s\n",
      "[CV] criterion=gini, max_depth=1, n_estimators=400 ...................\n",
      "[CV]  criterion=gini, max_depth=1, n_estimators=400, score=0.616, total=   0.5s\n",
      "[CV] criterion=gini, max_depth=1, n_estimators=400 ...................\n",
      "[CV]  criterion=gini, max_depth=1, n_estimators=400, score=0.591, total=   0.4s\n",
      "[CV] criterion=gini, max_depth=3, n_estimators=100 ...................\n",
      "[CV]  criterion=gini, max_depth=3, n_estimators=100, score=0.806, total=   0.1s\n",
      "[CV] criterion=gini, max_depth=3, n_estimators=100 ...................\n",
      "[CV]  criterion=gini, max_depth=3, n_estimators=100, score=0.803, total=   0.1s\n",
      "[CV] criterion=gini, max_depth=3, n_estimators=100 ...................\n",
      "[CV]  criterion=gini, max_depth=3, n_estimators=100, score=0.800, total=   0.2s\n",
      "[CV] criterion=gini, max_depth=3, n_estimators=100 ...................\n",
      "[CV]  criterion=gini, max_depth=3, n_estimators=100, score=0.787, total=   0.2s\n",
      "[CV] criterion=gini, max_depth=3, n_estimators=100 ...................\n",
      "[CV]  criterion=gini, max_depth=3, n_estimators=100, score=0.794, total=   0.2s\n",
      "[CV] criterion=gini, max_depth=3, n_estimators=200 ...................\n",
      "[CV]  criterion=gini, max_depth=3, n_estimators=200, score=0.819, total=   0.3s\n",
      "[CV] criterion=gini, max_depth=3, n_estimators=200 ...................\n",
      "[CV]  criterion=gini, max_depth=3, n_estimators=200, score=0.806, total=   0.3s\n",
      "[CV] criterion=gini, max_depth=3, n_estimators=200 ...................\n",
      "[CV]  criterion=gini, max_depth=3, n_estimators=200, score=0.809, total=   0.3s\n",
      "[CV] criterion=gini, max_depth=3, n_estimators=200 ...................\n",
      "[CV]  criterion=gini, max_depth=3, n_estimators=200, score=0.778, total=   0.3s\n",
      "[CV] criterion=gini, max_depth=3, n_estimators=200 ...................\n",
      "[CV]  criterion=gini, max_depth=3, n_estimators=200, score=0.803, total=   0.2s\n",
      "[CV] criterion=gini, max_depth=3, n_estimators=300 ...................\n",
      "[CV]  criterion=gini, max_depth=3, n_estimators=300, score=0.800, total=   0.4s\n",
      "[CV] criterion=gini, max_depth=3, n_estimators=300 ...................\n",
      "[CV]  criterion=gini, max_depth=3, n_estimators=300, score=0.822, total=   0.4s\n",
      "[CV] criterion=gini, max_depth=3, n_estimators=300 ...................\n",
      "[CV]  criterion=gini, max_depth=3, n_estimators=300, score=0.781, total=   0.4s\n",
      "[CV] criterion=gini, max_depth=3, n_estimators=300 ...................\n",
      "[CV]  criterion=gini, max_depth=3, n_estimators=300, score=0.794, total=   0.4s\n",
      "[CV] criterion=gini, max_depth=3, n_estimators=300 ...................\n",
      "[CV]  criterion=gini, max_depth=3, n_estimators=300, score=0.784, total=   0.4s\n",
      "[CV] criterion=gini, max_depth=3, n_estimators=400 ...................\n",
      "[CV]  criterion=gini, max_depth=3, n_estimators=400, score=0.834, total=   0.5s\n",
      "[CV] criterion=gini, max_depth=3, n_estimators=400 ...................\n",
      "[CV]  criterion=gini, max_depth=3, n_estimators=400, score=0.831, total=   0.6s\n",
      "[CV] criterion=gini, max_depth=3, n_estimators=400 ...................\n",
      "[CV]  criterion=gini, max_depth=3, n_estimators=400, score=0.794, total=   0.7s\n",
      "[CV] criterion=gini, max_depth=3, n_estimators=400 ...................\n",
      "[CV]  criterion=gini, max_depth=3, n_estimators=400, score=0.772, total=   0.7s\n",
      "[CV] criterion=gini, max_depth=3, n_estimators=400 ...................\n",
      "[CV]  criterion=gini, max_depth=3, n_estimators=400, score=0.772, total=   0.6s\n",
      "[CV] criterion=gini, max_depth=5, n_estimators=100 ...................\n",
      "[CV]  criterion=gini, max_depth=5, n_estimators=100, score=0.847, total=   0.2s\n",
      "[CV] criterion=gini, max_depth=5, n_estimators=100 ...................\n",
      "[CV]  criterion=gini, max_depth=5, n_estimators=100, score=0.834, total=   0.2s\n",
      "[CV] criterion=gini, max_depth=5, n_estimators=100 ...................\n",
      "[CV]  criterion=gini, max_depth=5, n_estimators=100, score=0.853, total=   0.2s\n",
      "[CV] criterion=gini, max_depth=5, n_estimators=100 ...................\n",
      "[CV]  criterion=gini, max_depth=5, n_estimators=100, score=0.825, total=   0.2s\n",
      "[CV] criterion=gini, max_depth=5, n_estimators=100 ...................\n",
      "[CV]  criterion=gini, max_depth=5, n_estimators=100, score=0.828, total=   0.2s\n",
      "[CV] criterion=gini, max_depth=5, n_estimators=200 ...................\n",
      "[CV]  criterion=gini, max_depth=5, n_estimators=200, score=0.850, total=   0.3s\n",
      "[CV] criterion=gini, max_depth=5, n_estimators=200 ...................\n",
      "[CV]  criterion=gini, max_depth=5, n_estimators=200, score=0.853, total=   0.3s\n",
      "[CV] criterion=gini, max_depth=5, n_estimators=200 ...................\n",
      "[CV]  criterion=gini, max_depth=5, n_estimators=200, score=0.847, total=   0.3s\n",
      "[CV] criterion=gini, max_depth=5, n_estimators=200 ...................\n",
      "[CV]  criterion=gini, max_depth=5, n_estimators=200, score=0.809, total=   0.3s\n",
      "[CV] criterion=gini, max_depth=5, n_estimators=200 ...................\n",
      "[CV]  criterion=gini, max_depth=5, n_estimators=200, score=0.822, total=   0.3s\n",
      "[CV] criterion=gini, max_depth=5, n_estimators=300 ...................\n",
      "[CV]  criterion=gini, max_depth=5, n_estimators=300, score=0.872, total=   0.4s\n",
      "[CV] criterion=gini, max_depth=5, n_estimators=300 ...................\n",
      "[CV]  criterion=gini, max_depth=5, n_estimators=300, score=0.856, total=   0.4s\n",
      "[CV] criterion=gini, max_depth=5, n_estimators=300 ...................\n",
      "[CV]  criterion=gini, max_depth=5, n_estimators=300, score=0.856, total=   0.4s\n",
      "[CV] criterion=gini, max_depth=5, n_estimators=300 ...................\n",
      "[CV]  criterion=gini, max_depth=5, n_estimators=300, score=0.825, total=   0.4s\n",
      "[CV] criterion=gini, max_depth=5, n_estimators=300 ...................\n",
      "[CV]  criterion=gini, max_depth=5, n_estimators=300, score=0.825, total=   0.4s\n",
      "[CV] criterion=gini, max_depth=5, n_estimators=400 ...................\n",
      "[CV]  criterion=gini, max_depth=5, n_estimators=400, score=0.856, total=   0.4s\n",
      "[CV] criterion=gini, max_depth=5, n_estimators=400 ...................\n",
      "[CV]  criterion=gini, max_depth=5, n_estimators=400, score=0.850, total=   0.4s\n",
      "[CV] criterion=gini, max_depth=5, n_estimators=400 ...................\n",
      "[CV]  criterion=gini, max_depth=5, n_estimators=400, score=0.850, total=   0.5s\n",
      "[CV] criterion=gini, max_depth=5, n_estimators=400 ...................\n",
      "[CV]  criterion=gini, max_depth=5, n_estimators=400, score=0.822, total=   0.5s\n",
      "[CV] criterion=gini, max_depth=5, n_estimators=400 ...................\n",
      "[CV]  criterion=gini, max_depth=5, n_estimators=400, score=0.816, total=   0.5s\n",
      "[CV] criterion=gini, max_depth=7, n_estimators=100 ...................\n",
      "[CV]  criterion=gini, max_depth=7, n_estimators=100, score=0.875, total=   0.1s\n",
      "[CV] criterion=gini, max_depth=7, n_estimators=100 ...................\n",
      "[CV]  criterion=gini, max_depth=7, n_estimators=100, score=0.853, total=   0.2s\n",
      "[CV] criterion=gini, max_depth=7, n_estimators=100 ...................\n",
      "[CV]  criterion=gini, max_depth=7, n_estimators=100, score=0.859, total=   0.2s\n",
      "[CV] criterion=gini, max_depth=7, n_estimators=100 ...................\n",
      "[CV]  criterion=gini, max_depth=7, n_estimators=100, score=0.856, total=   0.2s\n",
      "[CV] criterion=gini, max_depth=7, n_estimators=100 ...................\n",
      "[CV]  criterion=gini, max_depth=7, n_estimators=100, score=0.834, total=   0.2s\n",
      "[CV] criterion=gini, max_depth=7, n_estimators=200 ...................\n"
     ]
    },
    {
     "name": "stdout",
     "output_type": "stream",
     "text": [
      "[CV]  criterion=gini, max_depth=7, n_estimators=200, score=0.878, total=   0.3s\n",
      "[CV] criterion=gini, max_depth=7, n_estimators=200 ...................\n",
      "[CV]  criterion=gini, max_depth=7, n_estimators=200, score=0.875, total=   0.3s\n",
      "[CV] criterion=gini, max_depth=7, n_estimators=200 ...................\n",
      "[CV]  criterion=gini, max_depth=7, n_estimators=200, score=0.875, total=   0.3s\n",
      "[CV] criterion=gini, max_depth=7, n_estimators=200 ...................\n",
      "[CV]  criterion=gini, max_depth=7, n_estimators=200, score=0.856, total=   0.3s\n",
      "[CV] criterion=gini, max_depth=7, n_estimators=200 ...................\n",
      "[CV]  criterion=gini, max_depth=7, n_estimators=200, score=0.831, total=   0.3s\n",
      "[CV] criterion=gini, max_depth=7, n_estimators=300 ...................\n",
      "[CV]  criterion=gini, max_depth=7, n_estimators=300, score=0.875, total=   0.4s\n",
      "[CV] criterion=gini, max_depth=7, n_estimators=300 ...................\n",
      "[CV]  criterion=gini, max_depth=7, n_estimators=300, score=0.866, total=   0.4s\n",
      "[CV] criterion=gini, max_depth=7, n_estimators=300 ...................\n",
      "[CV]  criterion=gini, max_depth=7, n_estimators=300, score=0.869, total=   0.4s\n",
      "[CV] criterion=gini, max_depth=7, n_estimators=300 ...................\n",
      "[CV]  criterion=gini, max_depth=7, n_estimators=300, score=0.850, total=   0.4s\n",
      "[CV] criterion=gini, max_depth=7, n_estimators=300 ...................\n",
      "[CV]  criterion=gini, max_depth=7, n_estimators=300, score=0.828, total=   0.4s\n",
      "[CV] criterion=gini, max_depth=7, n_estimators=400 ...................\n",
      "[CV]  criterion=gini, max_depth=7, n_estimators=400, score=0.872, total=   0.5s\n",
      "[CV] criterion=gini, max_depth=7, n_estimators=400 ...................\n",
      "[CV]  criterion=gini, max_depth=7, n_estimators=400, score=0.872, total=   0.5s\n",
      "[CV] criterion=gini, max_depth=7, n_estimators=400 ...................\n",
      "[CV]  criterion=gini, max_depth=7, n_estimators=400, score=0.872, total=   0.5s\n",
      "[CV] criterion=gini, max_depth=7, n_estimators=400 ...................\n",
      "[CV]  criterion=gini, max_depth=7, n_estimators=400, score=0.869, total=   0.5s\n",
      "[CV] criterion=gini, max_depth=7, n_estimators=400 ...................\n",
      "[CV]  criterion=gini, max_depth=7, n_estimators=400, score=0.838, total=   0.5s\n",
      "[CV] criterion=entropy, max_depth=1, n_estimators=100 ................\n",
      "[CV]  criterion=entropy, max_depth=1, n_estimators=100, score=0.525, total=   0.2s\n",
      "[CV] criterion=entropy, max_depth=1, n_estimators=100 ................\n",
      "[CV]  criterion=entropy, max_depth=1, n_estimators=100, score=0.606, total=   0.1s\n",
      "[CV] criterion=entropy, max_depth=1, n_estimators=100 ................\n",
      "[CV]  criterion=entropy, max_depth=1, n_estimators=100, score=0.544, total=   0.1s\n",
      "[CV] criterion=entropy, max_depth=1, n_estimators=100 ................\n",
      "[CV]  criterion=entropy, max_depth=1, n_estimators=100, score=0.547, total=   0.2s\n",
      "[CV] criterion=entropy, max_depth=1, n_estimators=100 ................\n",
      "[CV]  criterion=entropy, max_depth=1, n_estimators=100, score=0.537, total=   0.2s\n",
      "[CV] criterion=entropy, max_depth=1, n_estimators=200 ................\n",
      "[CV]  criterion=entropy, max_depth=1, n_estimators=200, score=0.553, total=   0.3s\n",
      "[CV] criterion=entropy, max_depth=1, n_estimators=200 ................\n",
      "[CV]  criterion=entropy, max_depth=1, n_estimators=200, score=0.625, total=   0.3s\n",
      "[CV] criterion=entropy, max_depth=1, n_estimators=200 ................\n",
      "[CV]  criterion=entropy, max_depth=1, n_estimators=200, score=0.556, total=   0.3s\n",
      "[CV] criterion=entropy, max_depth=1, n_estimators=200 ................\n",
      "[CV]  criterion=entropy, max_depth=1, n_estimators=200, score=0.553, total=   0.3s\n",
      "[CV] criterion=entropy, max_depth=1, n_estimators=200 ................\n",
      "[CV]  criterion=entropy, max_depth=1, n_estimators=200, score=0.559, total=   0.3s\n",
      "[CV] criterion=entropy, max_depth=1, n_estimators=300 ................\n",
      "[CV]  criterion=entropy, max_depth=1, n_estimators=300, score=0.556, total=   0.4s\n",
      "[CV] criterion=entropy, max_depth=1, n_estimators=300 ................\n",
      "[CV]  criterion=entropy, max_depth=1, n_estimators=300, score=0.581, total=   0.4s\n",
      "[CV] criterion=entropy, max_depth=1, n_estimators=300 ................\n",
      "[CV]  criterion=entropy, max_depth=1, n_estimators=300, score=0.534, total=   0.4s\n",
      "[CV] criterion=entropy, max_depth=1, n_estimators=300 ................\n",
      "[CV]  criterion=entropy, max_depth=1, n_estimators=300, score=0.534, total=   0.4s\n",
      "[CV] criterion=entropy, max_depth=1, n_estimators=300 ................\n",
      "[CV]  criterion=entropy, max_depth=1, n_estimators=300, score=0.550, total=   0.4s\n",
      "[CV] criterion=entropy, max_depth=1, n_estimators=400 ................\n",
      "[CV]  criterion=entropy, max_depth=1, n_estimators=400, score=0.556, total=   0.4s\n",
      "[CV] criterion=entropy, max_depth=1, n_estimators=400 ................\n",
      "[CV]  criterion=entropy, max_depth=1, n_estimators=400, score=0.616, total=   0.4s\n",
      "[CV] criterion=entropy, max_depth=1, n_estimators=400 ................\n",
      "[CV]  criterion=entropy, max_depth=1, n_estimators=400, score=0.544, total=   0.4s\n",
      "[CV] criterion=entropy, max_depth=1, n_estimators=400 ................\n",
      "[CV]  criterion=entropy, max_depth=1, n_estimators=400, score=0.566, total=   0.4s\n",
      "[CV] criterion=entropy, max_depth=1, n_estimators=400 ................\n",
      "[CV]  criterion=entropy, max_depth=1, n_estimators=400, score=0.559, total=   0.4s\n",
      "[CV] criterion=entropy, max_depth=3, n_estimators=100 ................\n",
      "[CV]  criterion=entropy, max_depth=3, n_estimators=100, score=0.759, total=   0.2s\n",
      "[CV] criterion=entropy, max_depth=3, n_estimators=100 ................\n",
      "[CV]  criterion=entropy, max_depth=3, n_estimators=100, score=0.775, total=   0.1s\n",
      "[CV] criterion=entropy, max_depth=3, n_estimators=100 ................\n",
      "[CV]  criterion=entropy, max_depth=3, n_estimators=100, score=0.772, total=   0.1s\n",
      "[CV] criterion=entropy, max_depth=3, n_estimators=100 ................\n",
      "[CV]  criterion=entropy, max_depth=3, n_estimators=100, score=0.762, total=   0.1s\n",
      "[CV] criterion=entropy, max_depth=3, n_estimators=100 ................\n",
      "[CV]  criterion=entropy, max_depth=3, n_estimators=100, score=0.787, total=   0.1s\n",
      "[CV] criterion=entropy, max_depth=3, n_estimators=200 ................\n",
      "[CV]  criterion=entropy, max_depth=3, n_estimators=200, score=0.775, total=   0.3s\n",
      "[CV] criterion=entropy, max_depth=3, n_estimators=200 ................\n",
      "[CV]  criterion=entropy, max_depth=3, n_estimators=200, score=0.822, total=   0.3s\n",
      "[CV] criterion=entropy, max_depth=3, n_estimators=200 ................\n",
      "[CV]  criterion=entropy, max_depth=3, n_estimators=200, score=0.753, total=   0.3s\n",
      "[CV] criterion=entropy, max_depth=3, n_estimators=200 ................\n",
      "[CV]  criterion=entropy, max_depth=3, n_estimators=200, score=0.781, total=   0.3s\n",
      "[CV] criterion=entropy, max_depth=3, n_estimators=200 ................\n",
      "[CV]  criterion=entropy, max_depth=3, n_estimators=200, score=0.784, total=   0.3s\n",
      "[CV] criterion=entropy, max_depth=3, n_estimators=300 ................\n",
      "[CV]  criterion=entropy, max_depth=3, n_estimators=300, score=0.794, total=   0.4s\n",
      "[CV] criterion=entropy, max_depth=3, n_estimators=300 ................\n",
      "[CV]  criterion=entropy, max_depth=3, n_estimators=300, score=0.816, total=   0.4s\n",
      "[CV] criterion=entropy, max_depth=3, n_estimators=300 ................\n",
      "[CV]  criterion=entropy, max_depth=3, n_estimators=300, score=0.772, total=   0.4s\n",
      "[CV] criterion=entropy, max_depth=3, n_estimators=300 ................\n",
      "[CV]  criterion=entropy, max_depth=3, n_estimators=300, score=0.759, total=   0.4s\n",
      "[CV] criterion=entropy, max_depth=3, n_estimators=300 ................\n",
      "[CV]  criterion=entropy, max_depth=3, n_estimators=300, score=0.781, total=   0.4s\n",
      "[CV] criterion=entropy, max_depth=3, n_estimators=400 ................\n",
      "[CV]  criterion=entropy, max_depth=3, n_estimators=400, score=0.766, total=   0.6s\n",
      "[CV] criterion=entropy, max_depth=3, n_estimators=400 ................\n",
      "[CV]  criterion=entropy, max_depth=3, n_estimators=400, score=0.809, total=   0.5s\n",
      "[CV] criterion=entropy, max_depth=3, n_estimators=400 ................\n",
      "[CV]  criterion=entropy, max_depth=3, n_estimators=400, score=0.787, total=   0.5s\n",
      "[CV] criterion=entropy, max_depth=3, n_estimators=400 ................\n",
      "[CV]  criterion=entropy, max_depth=3, n_estimators=400, score=0.747, total=   0.5s\n",
      "[CV] criterion=entropy, max_depth=3, n_estimators=400 ................\n"
     ]
    },
    {
     "name": "stdout",
     "output_type": "stream",
     "text": [
      "[CV]  criterion=entropy, max_depth=3, n_estimators=400, score=0.762, total=   0.5s\n",
      "[CV] criterion=entropy, max_depth=5, n_estimators=100 ................\n",
      "[CV]  criterion=entropy, max_depth=5, n_estimators=100, score=0.859, total=   0.2s\n",
      "[CV] criterion=entropy, max_depth=5, n_estimators=100 ................\n",
      "[CV]  criterion=entropy, max_depth=5, n_estimators=100, score=0.834, total=   0.2s\n",
      "[CV] criterion=entropy, max_depth=5, n_estimators=100 ................\n",
      "[CV]  criterion=entropy, max_depth=5, n_estimators=100, score=0.847, total=   0.2s\n",
      "[CV] criterion=entropy, max_depth=5, n_estimators=100 ................\n",
      "[CV]  criterion=entropy, max_depth=5, n_estimators=100, score=0.825, total=   0.2s\n",
      "[CV] criterion=entropy, max_depth=5, n_estimators=100 ................\n",
      "[CV]  criterion=entropy, max_depth=5, n_estimators=100, score=0.819, total=   0.2s\n",
      "[CV] criterion=entropy, max_depth=5, n_estimators=200 ................\n",
      "[CV]  criterion=entropy, max_depth=5, n_estimators=200, score=0.856, total=   0.3s\n",
      "[CV] criterion=entropy, max_depth=5, n_estimators=200 ................\n",
      "[CV]  criterion=entropy, max_depth=5, n_estimators=200, score=0.863, total=   0.3s\n",
      "[CV] criterion=entropy, max_depth=5, n_estimators=200 ................\n",
      "[CV]  criterion=entropy, max_depth=5, n_estimators=200, score=0.856, total=   0.3s\n",
      "[CV] criterion=entropy, max_depth=5, n_estimators=200 ................\n",
      "[CV]  criterion=entropy, max_depth=5, n_estimators=200, score=0.822, total=   0.3s\n",
      "[CV] criterion=entropy, max_depth=5, n_estimators=200 ................\n",
      "[CV]  criterion=entropy, max_depth=5, n_estimators=200, score=0.819, total=   0.3s\n",
      "[CV] criterion=entropy, max_depth=5, n_estimators=300 ................\n",
      "[CV]  criterion=entropy, max_depth=5, n_estimators=300, score=0.850, total=   0.5s\n",
      "[CV] criterion=entropy, max_depth=5, n_estimators=300 ................\n",
      "[CV]  criterion=entropy, max_depth=5, n_estimators=300, score=0.853, total=   0.5s\n",
      "[CV] criterion=entropy, max_depth=5, n_estimators=300 ................\n",
      "[CV]  criterion=entropy, max_depth=5, n_estimators=300, score=0.844, total=   0.6s\n",
      "[CV] criterion=entropy, max_depth=5, n_estimators=300 ................\n",
      "[CV]  criterion=entropy, max_depth=5, n_estimators=300, score=0.809, total=   0.6s\n",
      "[CV] criterion=entropy, max_depth=5, n_estimators=300 ................\n",
      "[CV]  criterion=entropy, max_depth=5, n_estimators=300, score=0.819, total=   0.5s\n",
      "[CV] criterion=entropy, max_depth=5, n_estimators=400 ................\n",
      "[CV]  criterion=entropy, max_depth=5, n_estimators=400, score=0.869, total=   0.6s\n",
      "[CV] criterion=entropy, max_depth=5, n_estimators=400 ................\n",
      "[CV]  criterion=entropy, max_depth=5, n_estimators=400, score=0.859, total=   0.6s\n",
      "[CV] criterion=entropy, max_depth=5, n_estimators=400 ................\n",
      "[CV]  criterion=entropy, max_depth=5, n_estimators=400, score=0.853, total=   0.5s\n",
      "[CV] criterion=entropy, max_depth=5, n_estimators=400 ................\n",
      "[CV]  criterion=entropy, max_depth=5, n_estimators=400, score=0.847, total=   0.6s\n",
      "[CV] criterion=entropy, max_depth=5, n_estimators=400 ................\n",
      "[CV]  criterion=entropy, max_depth=5, n_estimators=400, score=0.819, total=   0.5s\n",
      "[CV] criterion=entropy, max_depth=7, n_estimators=100 ................\n",
      "[CV]  criterion=entropy, max_depth=7, n_estimators=100, score=0.869, total=   0.2s\n",
      "[CV] criterion=entropy, max_depth=7, n_estimators=100 ................\n",
      "[CV]  criterion=entropy, max_depth=7, n_estimators=100, score=0.866, total=   0.2s\n",
      "[CV] criterion=entropy, max_depth=7, n_estimators=100 ................\n",
      "[CV]  criterion=entropy, max_depth=7, n_estimators=100, score=0.869, total=   0.2s\n",
      "[CV] criterion=entropy, max_depth=7, n_estimators=100 ................\n",
      "[CV]  criterion=entropy, max_depth=7, n_estimators=100, score=0.875, total=   0.2s\n",
      "[CV] criterion=entropy, max_depth=7, n_estimators=100 ................\n",
      "[CV]  criterion=entropy, max_depth=7, n_estimators=100, score=0.822, total=   0.2s\n",
      "[CV] criterion=entropy, max_depth=7, n_estimators=200 ................\n",
      "[CV]  criterion=entropy, max_depth=7, n_estimators=200, score=0.884, total=   0.3s\n",
      "[CV] criterion=entropy, max_depth=7, n_estimators=200 ................\n",
      "[CV]  criterion=entropy, max_depth=7, n_estimators=200, score=0.863, total=   0.3s\n",
      "[CV] criterion=entropy, max_depth=7, n_estimators=200 ................\n",
      "[CV]  criterion=entropy, max_depth=7, n_estimators=200, score=0.869, total=   0.3s\n",
      "[CV] criterion=entropy, max_depth=7, n_estimators=200 ................\n",
      "[CV]  criterion=entropy, max_depth=7, n_estimators=200, score=0.863, total=   0.3s\n",
      "[CV] criterion=entropy, max_depth=7, n_estimators=200 ................\n",
      "[CV]  criterion=entropy, max_depth=7, n_estimators=200, score=0.838, total=   0.3s\n",
      "[CV] criterion=entropy, max_depth=7, n_estimators=300 ................\n",
      "[CV]  criterion=entropy, max_depth=7, n_estimators=300, score=0.881, total=   0.4s\n",
      "[CV] criterion=entropy, max_depth=7, n_estimators=300 ................\n",
      "[CV]  criterion=entropy, max_depth=7, n_estimators=300, score=0.869, total=   0.5s\n",
      "[CV] criterion=entropy, max_depth=7, n_estimators=300 ................\n",
      "[CV]  criterion=entropy, max_depth=7, n_estimators=300, score=0.878, total=   0.5s\n",
      "[CV] criterion=entropy, max_depth=7, n_estimators=300 ................\n",
      "[CV]  criterion=entropy, max_depth=7, n_estimators=300, score=0.872, total=   0.5s\n",
      "[CV] criterion=entropy, max_depth=7, n_estimators=300 ................\n",
      "[CV]  criterion=entropy, max_depth=7, n_estimators=300, score=0.847, total=   0.6s\n",
      "[CV] criterion=entropy, max_depth=7, n_estimators=400 ................\n",
      "[CV]  criterion=entropy, max_depth=7, n_estimators=400, score=0.884, total=   0.6s\n",
      "[CV] criterion=entropy, max_depth=7, n_estimators=400 ................\n",
      "[CV]  criterion=entropy, max_depth=7, n_estimators=400, score=0.884, total=   0.6s\n",
      "[CV] criterion=entropy, max_depth=7, n_estimators=400 ................\n",
      "[CV]  criterion=entropy, max_depth=7, n_estimators=400, score=0.869, total=   0.6s\n",
      "[CV] criterion=entropy, max_depth=7, n_estimators=400 ................\n",
      "[CV]  criterion=entropy, max_depth=7, n_estimators=400, score=0.856, total=   0.6s\n",
      "[CV] criterion=entropy, max_depth=7, n_estimators=400 ................\n",
      "[CV]  criterion=entropy, max_depth=7, n_estimators=400, score=0.834, total=   0.7s\n"
     ]
    },
    {
     "name": "stderr",
     "output_type": "stream",
     "text": [
      "[Parallel(n_jobs=1)]: Done 160 out of 160 | elapsed:   59.8s finished\n"
     ]
    },
    {
     "data": {
      "text/plain": [
       "GridSearchCV(cv=5, estimator=RandomForestClassifier(n_jobs=-1), n_jobs=1,\n",
       "             param_grid={'criterion': ['gini', 'entropy'],\n",
       "                         'max_depth': [1, 3, 5, 7],\n",
       "                         'n_estimators': [100, 200, 300, 400]},\n",
       "             scoring='accuracy', verbose=10)"
      ]
     },
     "execution_count": 31,
     "metadata": {},
     "output_type": "execute_result"
    }
   ],
   "source": [
    "# Using Random Forest as example \n",
    "clf = ensemble.RandomForestClassifier(n_jobs = -1) #This tells my pc to run all cores on the problem\n",
    "param_grid = {\n",
    "    #Put the parameters here\n",
    "    #### Example 1: \"n_estimators\": [i for i in range(0,50)]#Change 0 and 50 here to your requirments\n",
    "    \"n_estimators\": [100, 200, 300, 400],\n",
    "    \"max_depth\": [1, 3, 5, 7],\n",
    "    \"criterion\": [\"gini\", \"entropy\"]\n",
    "}\n",
    "\n",
    "# Implementing GridSearch\n",
    "model = model_selection.GridSearchCV(\n",
    "    estimator = clf,\n",
    "    param_grid = param_grid,\n",
    "    scoring = \"accuracy\",\n",
    "    verbose = 10,\n",
    "    n_jobs = 1,\n",
    "    cv = 5,\n",
    ")\n",
    "model.fit(X_train, y_train)"
   ]
  },
  {
   "cell_type": "code",
   "execution_count": 32,
   "metadata": {},
   "outputs": [
    {
     "name": "stdout",
     "output_type": "stream",
     "text": [
      "0.869375\n",
      "{'bootstrap': True, 'ccp_alpha': 0.0, 'class_weight': None, 'criterion': 'entropy', 'max_depth': 7, 'max_features': 'auto', 'max_leaf_nodes': None, 'max_samples': None, 'min_impurity_decrease': 0.0, 'min_impurity_split': None, 'min_samples_leaf': 1, 'min_samples_split': 2, 'min_weight_fraction_leaf': 0.0, 'n_estimators': 300, 'n_jobs': -1, 'oob_score': False, 'random_state': None, 'verbose': 0, 'warm_start': False}\n"
     ]
    }
   ],
   "source": [
    "# Printing best accuracy score because labels are equally divided and the estimators\n",
    "print(model.best_score_)\n",
    "print(model.best_estimator_.get_params())"
   ]
  },
  {
   "cell_type": "code",
   "execution_count": 38,
   "metadata": {},
   "outputs": [],
   "source": [
    "#Fine tuned model\n",
    "clf = ensemble.RandomForestClassifier(**model.best_params_)\n",
    "clf.fit(X, y)\n",
    "y_pred = clf.predict(X_test)"
   ]
  },
  {
   "cell_type": "code",
   "execution_count": 39,
   "metadata": {},
   "outputs": [
    {
     "data": {
      "text/plain": [
       "0.975"
      ]
     },
     "execution_count": 39,
     "metadata": {},
     "output_type": "execute_result"
    }
   ],
   "source": [
    "metrics.accuracy_score(y_test,y_pred)"
   ]
  },
  {
   "cell_type": "markdown",
   "metadata": {},
   "source": [
    "[Return to TOC](#toc)"
   ]
  },
  {
   "cell_type": "markdown",
   "metadata": {},
   "source": [
    "<a name=\"Eval\"></a>\n",
    "\n",
    "<a name=\"Model\"></a>\n",
    "\n",
    "<div class=\"list-group\" id=\"list-tab\" role=\"tablist\">\n",
    "<h3 class=\"list-group-item list-group-item-action active\" data-toggle=\"list\" style='background:black; border:0' role=\"tab\" aria-controls=\"home\"><center>Evaluation</center></h3>"
   ]
  },
  {
   "cell_type": "code",
   "execution_count": null,
   "metadata": {},
   "outputs": [],
   "source": []
  },
  {
   "cell_type": "markdown",
   "metadata": {},
   "source": [
    "[Return to TOC](#toc)"
   ]
  },
  {
   "cell_type": "markdown",
   "metadata": {},
   "source": [
    "<a name=\"Con\"></a>\n",
    "\n",
    "<div class=\"list-group\" id=\"list-tab\" role=\"tablist\">\n",
    "<h3 class=\"list-group-item list-group-item-action active\" data-toggle=\"list\" style='background:black; border:0' role=\"tab\" aria-controls=\"home\"><center>Conclusion</center></h3>"
   ]
  },
  {
   "cell_type": "code",
   "execution_count": null,
   "metadata": {},
   "outputs": [],
   "source": []
  },
  {
   "cell_type": "markdown",
   "metadata": {},
   "source": [
    "[Return to TOC](#toc)"
   ]
  },
  {
   "cell_type": "markdown",
   "metadata": {},
   "source": [
    "<a name=\"Rec\"></a>\n",
    "\n",
    "<div class=\"list-group\" id=\"list-tab\" role=\"tablist\">\n",
    "<h3 class=\"list-group-item list-group-item-action active\" data-toggle=\"list\" style='background:black; border:0' role=\"tab\" aria-controls=\"home\"><center>Recommendation</center></h3>"
   ]
  },
  {
   "cell_type": "code",
   "execution_count": null,
   "metadata": {},
   "outputs": [],
   "source": []
  },
  {
   "cell_type": "markdown",
   "metadata": {},
   "source": [
    "[Return to TOC](#toc)"
   ]
  }
 ],
 "metadata": {
  "kernelspec": {
   "display_name": "Python 3",
   "language": "python",
   "name": "python3"
  },
  "language_info": {
   "codemirror_mode": {
    "name": "ipython",
    "version": 3
   },
   "file_extension": ".py",
   "mimetype": "text/x-python",
   "name": "python",
   "nbconvert_exporter": "python",
   "pygments_lexer": "ipython3",
   "version": "3.8.5"
  }
 },
 "nbformat": 4,
 "nbformat_minor": 4
}
